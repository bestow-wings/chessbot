{
 "cells": [
  {
   "cell_type": "code",
   "execution_count": 7,
   "metadata": {},
   "outputs": [],
   "source": [
    "import os, random\n",
    "import chess\n",
    "import chess.pgn\n",
    "import numpy as np"
   ]
  },
  {
   "cell_type": "code",
   "execution_count": 8,
   "metadata": {},
   "outputs": [],
   "source": [
    "# let's start with super simple bot that just plays random legal moves\n",
    "class super_simple_bot:\n",
    "    def make_a_random_move(__self__, board):\n",
    "        legal_moves = []\n",
    "        for move in board.legal_moves:\n",
    "            legal_moves.append(move)\n",
    "        board.push(legal_moves[random.randrange(len(legal_moves))])\n",
    "chessbot = super_simple_bot()\n",
    "board = chess.Board()\n",
    "chessbot.make_a_random_move(board)\n"
   ]
  },
  {
   "cell_type": "markdown",
   "metadata": {},
   "source": [
    "Well, what if we want the bot to play like me? I have a whole bunch of games played on chess.com and I can download the data in month batches.\n",
    "\n",
    "Let's do something else really simple. If I've played games with the same move order before, have the bot play my most played move for that move order.\n",
    "\n",
    "We could do this without considering move order and just evaluate each position, but that's computationally quite intensive, and in most games played by players without titles you rarely transpose positions."
   ]
  },
  {
   "cell_type": "code",
   "execution_count": 51,
   "metadata": {},
   "outputs": [],
   "source": [
    "class super_simple_bot:\n",
    "\n",
    "    def __init__(self, username, games_dir):\n",
    "        self.username = username\n",
    "        self.game_filenames = []\n",
    "        for filename in os.listdir(games_dir):\n",
    "            self.game_filenames.append(games_dir+filename)\n",
    "\n",
    "    def find_a_random_move(self, board):\n",
    "        legal_moves = []\n",
    "        for move in board.legal_moves:\n",
    "            legal_moves.append(move)\n",
    "        return legal_moves[random.randrange(len(legal_moves))]\n",
    "\n",
    "    def playing_as(self, game):\n",
    "        if game.headers[\"Black\"] == self.username:\n",
    "            return chess.BLACK\n",
    "        else:\n",
    "            return chess.WHITE\n",
    "\n",
    "    def find_my_most_played_move(self, position):\n",
    "        position_fen = position.fen()\n",
    "        candidate_move_dict = {}\n",
    "\n",
    "        for file in self.game_filenames:\n",
    "            pgn = open(file)\n",
    "            game = chess.pgn.read_game(pgn)\n",
    "            while game is not None:\n",
    "                my_colour = self.playing_as(game)\n",
    "                board = game.board()\n",
    "                for move in game.mainline_moves():\n",
    "                    if board.turn == my_colour:\n",
    "                        if board.fen() == position_fen:\n",
    "                            if move in candidate_move_dict:\n",
    "                                candidate_move_dict[move] += 1\n",
    "                            else:\n",
    "                                candidate_move_dict[move] = 1\n",
    "                    board.push(move)\n",
    "                game = chess.pgn.read_game(pgn)\n",
    "            pgn.close()\n",
    "        if candidate_move_dict:\n",
    "            chosen_move = max(candidate_move_dict, key = candidate_move_dict.get)\n",
    "            return chosen_move\n",
    "        else:\n",
    "            return None\n"
   ]
  },
  {
   "cell_type": "code",
   "execution_count": 52,
   "metadata": {},
   "outputs": [],
   "source": [
    "chessbot = super_simple_bot(\"dylanjsw\", \"played_games/\")\n",
    "board = chess.Board()\n",
    "move = chessbot.find_my_most_played_move(board)\n",
    "while move is not None:\n",
    "    board.push(move)\n",
    "    move = chessbot.find_my_most_played_move(board)\n",
    "board"
   ]
  },
  {
   "cell_type": "markdown",
   "metadata": {},
   "source": [
    "Terrific - now what if we reach a position where I've never played a move in that position before? What's the kind of move I *would* have played? This is where we need to be able to predict my moves based on my previous moves.\n",
    "\n",
    "There is a lot of documentation on creating simple chess engines, but there isn't a lot of documentation on creating chess AIs based on previously played games. The example I am following here is from [Ethan Mai](https://towardsdatascience.com/machine-learning-how-i-coded-my-own-python-chess-engine-c4c81bcb2a9a).\n",
    "\n",
    "The first step is to create the dataset to train on. We need to create a data set that records the board state, the move I played, and the legal moves I didn't play. I am leaning heavily on Ethan's work here."
   ]
  },
  {
   "cell_type": "code",
   "execution_count": 11,
   "metadata": {},
   "outputs": [],
   "source": [
    "class smart_bot(super_simple_bot):\n",
    "\n",
    "    def label_my_played_games(self):\n",
    "        for file in self.game_filenames:\n",
    "            pgn = open(file)\n",
    "            game = chess.pgn.read_game(pgn)\n",
    "            while game is not None:\n",
    "                for move in game.mainline_moves():\n",
    "                    # make entries in my_moves and other_moves for the board state\n",
    "                game = chess.pgn.read_game(pgn)\n",
    "            pgn.close()\n",
    "\n",
    "chessbot = smart_bot(\"dylanjsw\", \"played_games/\")\n",
    "chessbot.label_my_played_games()"
   ]
  }
 ],
 "metadata": {
  "interpreter": {
   "hash": "bd7946c597f1572426ddbd0be70ffa79cfc754899800f8f84a8b34c293315adc"
  },
  "kernelspec": {
   "display_name": "Python 3.8.5 32-bit",
   "name": "python3"
  },
  "language_info": {
   "codemirror_mode": {
    "name": "ipython",
    "version": 3
   },
   "file_extension": ".py",
   "mimetype": "text/x-python",
   "name": "python",
   "nbconvert_exporter": "python",
   "pygments_lexer": "ipython3",
   "version": "3.8.5"
  },
  "orig_nbformat": 4
 },
 "nbformat": 4,
 "nbformat_minor": 2
}
